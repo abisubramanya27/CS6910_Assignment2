{
  "nbformat": 4,
  "nbformat_minor": 0,
  "metadata": {
    "accelerator": "GPU",
    "colab": {
      "name": "Assignment2_PartB.ipynb",
      "provenance": [],
      "collapsed_sections": [],
      "include_colab_link": true
    },
    "kernelspec": {
      "display_name": "Python 3",
      "name": "python3"
    },
    "language_info": {
      "name": "python"
    },
    "widgets": {
      "application/vnd.jupyter.widget-state+json": {
        "427f0793e6104e4ab06958abb1577716": {
          "model_module": "@jupyter-widgets/controls",
          "model_name": "VBoxModel",
          "state": {
            "_view_name": "VBoxView",
            "_dom_classes": [],
            "_model_name": "VBoxModel",
            "_view_module": "@jupyter-widgets/controls",
            "_model_module_version": "1.5.0",
            "_view_count": null,
            "_view_module_version": "1.5.0",
            "box_style": "",
            "layout": "IPY_MODEL_07e27a53cdb848d1985eb22c76b85724",
            "_model_module": "@jupyter-widgets/controls",
            "children": [
              "IPY_MODEL_36c6830193d5470ba93b87f54f562252",
              "IPY_MODEL_bc6b73e7b9824f669ed4cc3d8ce05dac"
            ]
          }
        },
        "07e27a53cdb848d1985eb22c76b85724": {
          "model_module": "@jupyter-widgets/base",
          "model_name": "LayoutModel",
          "state": {
            "_view_name": "LayoutView",
            "grid_template_rows": null,
            "right": null,
            "justify_content": null,
            "_view_module": "@jupyter-widgets/base",
            "overflow": null,
            "_model_module_version": "1.2.0",
            "_view_count": null,
            "flex_flow": null,
            "width": null,
            "min_width": null,
            "border": null,
            "align_items": null,
            "bottom": null,
            "_model_module": "@jupyter-widgets/base",
            "top": null,
            "grid_column": null,
            "overflow_y": null,
            "overflow_x": null,
            "grid_auto_flow": null,
            "grid_area": null,
            "grid_template_columns": null,
            "flex": null,
            "_model_name": "LayoutModel",
            "justify_items": null,
            "grid_row": null,
            "max_height": null,
            "align_content": null,
            "visibility": null,
            "align_self": null,
            "height": null,
            "min_height": null,
            "padding": null,
            "grid_auto_rows": null,
            "grid_gap": null,
            "max_width": null,
            "order": null,
            "_view_module_version": "1.2.0",
            "grid_template_areas": null,
            "object_position": null,
            "object_fit": null,
            "grid_auto_columns": null,
            "margin": null,
            "display": null,
            "left": null
          }
        },
        "36c6830193d5470ba93b87f54f562252": {
          "model_module": "@jupyter-widgets/controls",
          "model_name": "LabelModel",
          "state": {
            "_view_name": "LabelView",
            "style": "IPY_MODEL_41615319bd1c455f83b13254652ce1b2",
            "_dom_classes": [],
            "description": "",
            "_model_name": "LabelModel",
            "placeholder": "​",
            "_view_module": "@jupyter-widgets/controls",
            "_model_module_version": "1.5.0",
            "value": " 113.95MB of 113.95MB uploaded (0.00MB deduped)\r",
            "_view_count": null,
            "_view_module_version": "1.5.0",
            "description_tooltip": null,
            "_model_module": "@jupyter-widgets/controls",
            "layout": "IPY_MODEL_a1961a0aaa284e9e97b0c75cca501243"
          }
        },
        "bc6b73e7b9824f669ed4cc3d8ce05dac": {
          "model_module": "@jupyter-widgets/controls",
          "model_name": "FloatProgressModel",
          "state": {
            "_view_name": "ProgressView",
            "style": "IPY_MODEL_c3dddc14f41f4cca9336a3f1a681d134",
            "_dom_classes": [],
            "description": "",
            "_model_name": "FloatProgressModel",
            "bar_style": "",
            "max": 1,
            "_view_module": "@jupyter-widgets/controls",
            "_model_module_version": "1.5.0",
            "value": 1,
            "_view_count": null,
            "_view_module_version": "1.5.0",
            "orientation": "horizontal",
            "min": 0,
            "description_tooltip": null,
            "_model_module": "@jupyter-widgets/controls",
            "layout": "IPY_MODEL_699fe3d4886d4b33966c7b2fddcd2f56"
          }
        },
        "41615319bd1c455f83b13254652ce1b2": {
          "model_module": "@jupyter-widgets/controls",
          "model_name": "DescriptionStyleModel",
          "state": {
            "_view_name": "StyleView",
            "_model_name": "DescriptionStyleModel",
            "description_width": "",
            "_view_module": "@jupyter-widgets/base",
            "_model_module_version": "1.5.0",
            "_view_count": null,
            "_view_module_version": "1.2.0",
            "_model_module": "@jupyter-widgets/controls"
          }
        },
        "a1961a0aaa284e9e97b0c75cca501243": {
          "model_module": "@jupyter-widgets/base",
          "model_name": "LayoutModel",
          "state": {
            "_view_name": "LayoutView",
            "grid_template_rows": null,
            "right": null,
            "justify_content": null,
            "_view_module": "@jupyter-widgets/base",
            "overflow": null,
            "_model_module_version": "1.2.0",
            "_view_count": null,
            "flex_flow": null,
            "width": null,
            "min_width": null,
            "border": null,
            "align_items": null,
            "bottom": null,
            "_model_module": "@jupyter-widgets/base",
            "top": null,
            "grid_column": null,
            "overflow_y": null,
            "overflow_x": null,
            "grid_auto_flow": null,
            "grid_area": null,
            "grid_template_columns": null,
            "flex": null,
            "_model_name": "LayoutModel",
            "justify_items": null,
            "grid_row": null,
            "max_height": null,
            "align_content": null,
            "visibility": null,
            "align_self": null,
            "height": null,
            "min_height": null,
            "padding": null,
            "grid_auto_rows": null,
            "grid_gap": null,
            "max_width": null,
            "order": null,
            "_view_module_version": "1.2.0",
            "grid_template_areas": null,
            "object_position": null,
            "object_fit": null,
            "grid_auto_columns": null,
            "margin": null,
            "display": null,
            "left": null
          }
        },
        "c3dddc14f41f4cca9336a3f1a681d134": {
          "model_module": "@jupyter-widgets/controls",
          "model_name": "ProgressStyleModel",
          "state": {
            "_view_name": "StyleView",
            "_model_name": "ProgressStyleModel",
            "description_width": "",
            "_view_module": "@jupyter-widgets/base",
            "_model_module_version": "1.5.0",
            "_view_count": null,
            "_view_module_version": "1.2.0",
            "bar_color": null,
            "_model_module": "@jupyter-widgets/controls"
          }
        },
        "699fe3d4886d4b33966c7b2fddcd2f56": {
          "model_module": "@jupyter-widgets/base",
          "model_name": "LayoutModel",
          "state": {
            "_view_name": "LayoutView",
            "grid_template_rows": null,
            "right": null,
            "justify_content": null,
            "_view_module": "@jupyter-widgets/base",
            "overflow": null,
            "_model_module_version": "1.2.0",
            "_view_count": null,
            "flex_flow": null,
            "width": null,
            "min_width": null,
            "border": null,
            "align_items": null,
            "bottom": null,
            "_model_module": "@jupyter-widgets/base",
            "top": null,
            "grid_column": null,
            "overflow_y": null,
            "overflow_x": null,
            "grid_auto_flow": null,
            "grid_area": null,
            "grid_template_columns": null,
            "flex": null,
            "_model_name": "LayoutModel",
            "justify_items": null,
            "grid_row": null,
            "max_height": null,
            "align_content": null,
            "visibility": null,
            "align_self": null,
            "height": null,
            "min_height": null,
            "padding": null,
            "grid_auto_rows": null,
            "grid_gap": null,
            "max_width": null,
            "order": null,
            "_view_module_version": "1.2.0",
            "grid_template_areas": null,
            "object_position": null,
            "object_fit": null,
            "grid_auto_columns": null,
            "margin": null,
            "display": null,
            "left": null
          }
        },
        "1dfbbd7486474c6a955a3f93bab18e87": {
          "model_module": "@jupyter-widgets/controls",
          "model_name": "VBoxModel",
          "state": {
            "_view_name": "VBoxView",
            "_dom_classes": [],
            "_model_name": "VBoxModel",
            "_view_module": "@jupyter-widgets/controls",
            "_model_module_version": "1.5.0",
            "_view_count": null,
            "_view_module_version": "1.5.0",
            "box_style": "",
            "layout": "IPY_MODEL_2c409e59a0a0440d80befd8a6f00ef1d",
            "_model_module": "@jupyter-widgets/controls",
            "children": [
              "IPY_MODEL_2ac075af62c94289ad158e1ddbfdaee4",
              "IPY_MODEL_78291f66162740379aa0542eb37330e3"
            ]
          }
        },
        "2c409e59a0a0440d80befd8a6f00ef1d": {
          "model_module": "@jupyter-widgets/base",
          "model_name": "LayoutModel",
          "state": {
            "_view_name": "LayoutView",
            "grid_template_rows": null,
            "right": null,
            "justify_content": null,
            "_view_module": "@jupyter-widgets/base",
            "overflow": null,
            "_model_module_version": "1.2.0",
            "_view_count": null,
            "flex_flow": null,
            "width": null,
            "min_width": null,
            "border": null,
            "align_items": null,
            "bottom": null,
            "_model_module": "@jupyter-widgets/base",
            "top": null,
            "grid_column": null,
            "overflow_y": null,
            "overflow_x": null,
            "grid_auto_flow": null,
            "grid_area": null,
            "grid_template_columns": null,
            "flex": null,
            "_model_name": "LayoutModel",
            "justify_items": null,
            "grid_row": null,
            "max_height": null,
            "align_content": null,
            "visibility": null,
            "align_self": null,
            "height": null,
            "min_height": null,
            "padding": null,
            "grid_auto_rows": null,
            "grid_gap": null,
            "max_width": null,
            "order": null,
            "_view_module_version": "1.2.0",
            "grid_template_areas": null,
            "object_position": null,
            "object_fit": null,
            "grid_auto_columns": null,
            "margin": null,
            "display": null,
            "left": null
          }
        },
        "2ac075af62c94289ad158e1ddbfdaee4": {
          "model_module": "@jupyter-widgets/controls",
          "model_name": "LabelModel",
          "state": {
            "_view_name": "LabelView",
            "style": "IPY_MODEL_d047a27571064e9e92f186d5818aa5de",
            "_dom_classes": [],
            "description": "",
            "_model_name": "LabelModel",
            "placeholder": "​",
            "_view_module": "@jupyter-widgets/controls",
            "_model_module_version": "1.5.0",
            "value": " 142.58MB of 142.58MB uploaded (0.00MB deduped)\r",
            "_view_count": null,
            "_view_module_version": "1.5.0",
            "description_tooltip": null,
            "_model_module": "@jupyter-widgets/controls",
            "layout": "IPY_MODEL_07eb5126bfd248fa860a037b8f427db2"
          }
        },
        "78291f66162740379aa0542eb37330e3": {
          "model_module": "@jupyter-widgets/controls",
          "model_name": "FloatProgressModel",
          "state": {
            "_view_name": "ProgressView",
            "style": "IPY_MODEL_ed51c56c6e7247bbb2a472ea78cb5054",
            "_dom_classes": [],
            "description": "",
            "_model_name": "FloatProgressModel",
            "bar_style": "",
            "max": 1,
            "_view_module": "@jupyter-widgets/controls",
            "_model_module_version": "1.5.0",
            "value": 1,
            "_view_count": null,
            "_view_module_version": "1.5.0",
            "orientation": "horizontal",
            "min": 0,
            "description_tooltip": null,
            "_model_module": "@jupyter-widgets/controls",
            "layout": "IPY_MODEL_46a2322f0bc24fedb1c9c0e8c555bdbc"
          }
        },
        "d047a27571064e9e92f186d5818aa5de": {
          "model_module": "@jupyter-widgets/controls",
          "model_name": "DescriptionStyleModel",
          "state": {
            "_view_name": "StyleView",
            "_model_name": "DescriptionStyleModel",
            "description_width": "",
            "_view_module": "@jupyter-widgets/base",
            "_model_module_version": "1.5.0",
            "_view_count": null,
            "_view_module_version": "1.2.0",
            "_model_module": "@jupyter-widgets/controls"
          }
        },
        "07eb5126bfd248fa860a037b8f427db2": {
          "model_module": "@jupyter-widgets/base",
          "model_name": "LayoutModel",
          "state": {
            "_view_name": "LayoutView",
            "grid_template_rows": null,
            "right": null,
            "justify_content": null,
            "_view_module": "@jupyter-widgets/base",
            "overflow": null,
            "_model_module_version": "1.2.0",
            "_view_count": null,
            "flex_flow": null,
            "width": null,
            "min_width": null,
            "border": null,
            "align_items": null,
            "bottom": null,
            "_model_module": "@jupyter-widgets/base",
            "top": null,
            "grid_column": null,
            "overflow_y": null,
            "overflow_x": null,
            "grid_auto_flow": null,
            "grid_area": null,
            "grid_template_columns": null,
            "flex": null,
            "_model_name": "LayoutModel",
            "justify_items": null,
            "grid_row": null,
            "max_height": null,
            "align_content": null,
            "visibility": null,
            "align_self": null,
            "height": null,
            "min_height": null,
            "padding": null,
            "grid_auto_rows": null,
            "grid_gap": null,
            "max_width": null,
            "order": null,
            "_view_module_version": "1.2.0",
            "grid_template_areas": null,
            "object_position": null,
            "object_fit": null,
            "grid_auto_columns": null,
            "margin": null,
            "display": null,
            "left": null
          }
        },
        "ed51c56c6e7247bbb2a472ea78cb5054": {
          "model_module": "@jupyter-widgets/controls",
          "model_name": "ProgressStyleModel",
          "state": {
            "_view_name": "StyleView",
            "_model_name": "ProgressStyleModel",
            "description_width": "",
            "_view_module": "@jupyter-widgets/base",
            "_model_module_version": "1.5.0",
            "_view_count": null,
            "_view_module_version": "1.2.0",
            "bar_color": null,
            "_model_module": "@jupyter-widgets/controls"
          }
        },
        "46a2322f0bc24fedb1c9c0e8c555bdbc": {
          "model_module": "@jupyter-widgets/base",
          "model_name": "LayoutModel",
          "state": {
            "_view_name": "LayoutView",
            "grid_template_rows": null,
            "right": null,
            "justify_content": null,
            "_view_module": "@jupyter-widgets/base",
            "overflow": null,
            "_model_module_version": "1.2.0",
            "_view_count": null,
            "flex_flow": null,
            "width": null,
            "min_width": null,
            "border": null,
            "align_items": null,
            "bottom": null,
            "_model_module": "@jupyter-widgets/base",
            "top": null,
            "grid_column": null,
            "overflow_y": null,
            "overflow_x": null,
            "grid_auto_flow": null,
            "grid_area": null,
            "grid_template_columns": null,
            "flex": null,
            "_model_name": "LayoutModel",
            "justify_items": null,
            "grid_row": null,
            "max_height": null,
            "align_content": null,
            "visibility": null,
            "align_self": null,
            "height": null,
            "min_height": null,
            "padding": null,
            "grid_auto_rows": null,
            "grid_gap": null,
            "max_width": null,
            "order": null,
            "_view_module_version": "1.2.0",
            "grid_template_areas": null,
            "object_position": null,
            "object_fit": null,
            "grid_auto_columns": null,
            "margin": null,
            "display": null,
            "left": null
          }
        }
      }
    }
  },
  "cells": [
    {
      "cell_type": "markdown",
      "metadata": {
        "id": "view-in-github",
        "colab_type": "text"
      },
      "source": [
        "<a href=\"https://colab.research.google.com/github/abisubramanya27/CS6910_Assignment2/blob/main/partB/src/Assignment2_PartB.ipynb\" target=\"_parent\"><img src=\"https://colab.research.google.com/assets/colab-badge.svg\" alt=\"Open In Colab\"/></a>"
      ]
    },
    {
      "cell_type": "code",
      "metadata": {
        "id": "TXXJfnO-jhpq",
        "colab": {
          "base_uri": "https://localhost:8080/"
        },
        "outputId": "b09c8d96-9db6-4b04-8a48-7a3232708bdf"
      },
      "source": [
        "# Mounting drive to store dataset\n",
        "from google.colab import drive\n",
        "\n",
        "drive.mount('/content/gdrive')\n",
        "#!rm -rf inaturalist_12K"
      ],
      "execution_count": null,
      "outputs": [
        {
          "output_type": "stream",
          "text": [
            "Mounted at /content/gdrive\n"
          ],
          "name": "stdout"
        }
      ]
    },
    {
      "cell_type": "code",
      "metadata": {
        "colab": {
          "base_uri": "https://localhost:8080/"
        },
        "id": "E0EP3CrxEbJi",
        "outputId": "44fbe48b-b9eb-4e98-f60d-63abc5812072"
      },
      "source": [
        "%%time\n",
        "# %cd gdrive/MyDrive/assignments/cs6910/A2/Data\n",
        "# !pwd\n",
        "!cp gdrive/MyDrive/assignments/cs6910/A2/Data/inaturalist_12K.zip .\n",
        "#!gdown --id 11SGStqp8Vug2GDzSpJDwQYHThLIjZFQn\n",
        "!unzip -q inaturalist_12K.zip\n",
        "!ls\n",
        "\n",
        "# import zipfile\n",
        "# import concurrent.futures\n",
        "\n",
        "# zf = zipfile.ZipFile('inaturalist_12K.zip')\n",
        "\n",
        "# def unzip(file):\n",
        "#     zf.extract(file)\n",
        "\n",
        "# with concurrent.futures.ProcessPoolExecutor() as executor:\n",
        "#     executor.map(unzip, zf.infolist())"
      ],
      "execution_count": null,
      "outputs": [
        {
          "output_type": "stream",
          "text": [
            "gdrive\tinaturalist_12K  inaturalist_12K.zip  sample_data\n",
            "CPU times: user 2.88 s, sys: 484 ms, total: 3.36 s\n",
            "Wall time: 8min 54s\n"
          ],
          "name": "stdout"
        }
      ]
    },
    {
      "cell_type": "code",
      "metadata": {
        "id": "j52r8UJYXr1U"
      },
      "source": [
        "# !pip install split-folders"
      ],
      "execution_count": null,
      "outputs": []
    },
    {
      "cell_type": "code",
      "metadata": {
        "id": "hHtrVxShEOOa"
      },
      "source": [
        "# import splitfolders\n",
        "\n",
        "# # Splitting the training data into training and validation set\n",
        "# splitfolders.ratio('./inaturalist_12K/train', output='./inaturalist_12K/output', seed=1337, ratio=(.9, .1), group_prefix=None)"
      ],
      "execution_count": null,
      "outputs": []
    },
    {
      "cell_type": "code",
      "metadata": {
        "id": "8cjlDvASXtfR"
      },
      "source": [
        "import os\n",
        "def print_count_classes_in_valid():\n",
        "  class_count_valid = {}\n",
        "  for subdir, dirs, files in os.walk('./inaturalist_12K/val'):\n",
        "      for file in files:\n",
        "        class_count_valid[subdir] = class_count_valid.get(subdir,0)+1\n",
        "\n",
        "  print(class_count_valid)"
      ],
      "execution_count": null,
      "outputs": []
    },
    {
      "cell_type": "code",
      "metadata": {
        "colab": {
          "base_uri": "https://localhost:8080/"
        },
        "id": "xgiGx6yCuB-Q",
        "outputId": "06c12012-d2cb-493b-d0e7-9761c63fe7fe"
      },
      "source": [
        "import tensorflow as tf\n",
        "from tensorflow import keras\n",
        "from tensorflow.keras.models import Sequential\n",
        "from tensorflow.keras.layers import Activation, Dense, Flatten, BatchNormalization, Conv2D, MaxPooling2D, AveragePooling2D, Dropout, \\\n",
        "GlobalAveragePooling2D\n",
        "from tensorflow.keras.optimizers import Adam, SGD, RMSprop, Nadam\n",
        "from tensorflow.keras.metrics import categorical_crossentropy\n",
        "from tensorflow.keras.preprocessing.image import ImageDataGenerator\n",
        "from tensorflow.keras.preprocessing import image_dataset_from_directory\n",
        "from tensorflow.keras.callbacks import EarlyStopping\n",
        "\n",
        "physical_devices = tf.config.experimental.list_physical_devices('GPU')\n",
        "print(\"Num GPUs Available: \", len(physical_devices))\n",
        "\n",
        "tf.config.experimental.set_memory_growth(physical_devices[0], True)"
      ],
      "execution_count": null,
      "outputs": [
        {
          "output_type": "stream",
          "text": [
            "Num GPUs Available:  1\n"
          ],
          "name": "stdout"
        }
      ]
    },
    {
      "cell_type": "code",
      "metadata": {
        "id": "Zdy2ocN-wnil"
      },
      "source": [
        "from tensorflow.keras import regularizers"
      ],
      "execution_count": null,
      "outputs": []
    },
    {
      "cell_type": "code",
      "metadata": {
        "colab": {
          "base_uri": "https://localhost:8080/"
        },
        "id": "ejgmFIPE_DL5",
        "outputId": "9ccea23c-03dc-4ed4-9cc6-1d89f11126ca"
      },
      "source": [
        "!pip install --upgrade wandb\n",
        "!wandb login 6746f968d95eb71e281d6c7772a0469574430408"
      ],
      "execution_count": null,
      "outputs": [
        {
          "output_type": "stream",
          "text": [
            "Collecting wandb\n",
            "\u001b[?25l  Downloading https://files.pythonhosted.org/packages/26/70/a0f47563dc06df4dad4db96938d65a10efeb8ea909a423c96a0bfffc845c/wandb-0.10.24-py2.py3-none-any.whl (2.0MB)\n",
            "\u001b[K     |████████████████████████████████| 2.1MB 10.3MB/s \n",
            "\u001b[?25hCollecting subprocess32>=3.5.3\n",
            "\u001b[?25l  Downloading https://files.pythonhosted.org/packages/32/c8/564be4d12629b912ea431f1a50eb8b3b9d00f1a0b1ceff17f266be190007/subprocess32-3.5.4.tar.gz (97kB)\n",
            "\u001b[K     |████████████████████████████████| 102kB 9.2MB/s \n",
            "\u001b[?25hCollecting GitPython>=1.0.0\n",
            "\u001b[?25l  Downloading https://files.pythonhosted.org/packages/a6/99/98019716955ba243657daedd1de8f3a88ca1f5b75057c38e959db22fb87b/GitPython-3.1.14-py3-none-any.whl (159kB)\n",
            "\u001b[K     |████████████████████████████████| 163kB 39.5MB/s \n",
            "\u001b[?25hRequirement already satisfied, skipping upgrade: requests<3,>=2.0.0 in /usr/local/lib/python3.7/dist-packages (from wandb) (2.23.0)\n",
            "Requirement already satisfied, skipping upgrade: python-dateutil>=2.6.1 in /usr/local/lib/python3.7/dist-packages (from wandb) (2.8.1)\n",
            "Collecting sentry-sdk>=0.4.0\n",
            "\u001b[?25l  Downloading https://files.pythonhosted.org/packages/f3/92/5a33be64990ba815364a8f2dd9e6f51de60d23dfddafb4f1fc5577d4dc64/sentry_sdk-1.0.0-py2.py3-none-any.whl (131kB)\n",
            "\u001b[K     |████████████████████████████████| 133kB 38.8MB/s \n",
            "\u001b[?25hCollecting docker-pycreds>=0.4.0\n",
            "  Downloading https://files.pythonhosted.org/packages/f5/e8/f6bd1eee09314e7e6dee49cbe2c5e22314ccdb38db16c9fc72d2fa80d054/docker_pycreds-0.4.0-py2.py3-none-any.whl\n",
            "Collecting configparser>=3.8.1\n",
            "  Downloading https://files.pythonhosted.org/packages/fd/01/ff260a18caaf4457eb028c96eeb405c4a230ca06c8ec9c1379f813caa52e/configparser-5.0.2-py3-none-any.whl\n",
            "Requirement already satisfied, skipping upgrade: psutil>=5.0.0 in /usr/local/lib/python3.7/dist-packages (from wandb) (5.4.8)\n",
            "Requirement already satisfied, skipping upgrade: protobuf>=3.12.0 in /usr/local/lib/python3.7/dist-packages (from wandb) (3.12.4)\n",
            "Collecting shortuuid>=0.5.0\n",
            "  Downloading https://files.pythonhosted.org/packages/25/a6/2ecc1daa6a304e7f1b216f0896b26156b78e7c38e1211e9b798b4716c53d/shortuuid-1.0.1-py3-none-any.whl\n",
            "Requirement already satisfied, skipping upgrade: six>=1.13.0 in /usr/local/lib/python3.7/dist-packages (from wandb) (1.15.0)\n",
            "Requirement already satisfied, skipping upgrade: PyYAML in /usr/local/lib/python3.7/dist-packages (from wandb) (3.13)\n",
            "Requirement already satisfied, skipping upgrade: promise<3,>=2.0 in /usr/local/lib/python3.7/dist-packages (from wandb) (2.3)\n",
            "Requirement already satisfied, skipping upgrade: Click>=7.0 in /usr/local/lib/python3.7/dist-packages (from wandb) (7.1.2)\n",
            "Collecting pathtools\n",
            "  Downloading https://files.pythonhosted.org/packages/e7/7f/470d6fcdf23f9f3518f6b0b76be9df16dcc8630ad409947f8be2eb0ed13a/pathtools-0.1.2.tar.gz\n",
            "Collecting gitdb<5,>=4.0.1\n",
            "\u001b[?25l  Downloading https://files.pythonhosted.org/packages/ea/e8/f414d1a4f0bbc668ed441f74f44c116d9816833a48bf81d22b697090dba8/gitdb-4.0.7-py3-none-any.whl (63kB)\n",
            "\u001b[K     |████████████████████████████████| 71kB 7.5MB/s \n",
            "\u001b[?25hRequirement already satisfied, skipping upgrade: certifi>=2017.4.17 in /usr/local/lib/python3.7/dist-packages (from requests<3,>=2.0.0->wandb) (2020.12.5)\n",
            "Requirement already satisfied, skipping upgrade: chardet<4,>=3.0.2 in /usr/local/lib/python3.7/dist-packages (from requests<3,>=2.0.0->wandb) (3.0.4)\n",
            "Requirement already satisfied, skipping upgrade: idna<3,>=2.5 in /usr/local/lib/python3.7/dist-packages (from requests<3,>=2.0.0->wandb) (2.10)\n",
            "Requirement already satisfied, skipping upgrade: urllib3!=1.25.0,!=1.25.1,<1.26,>=1.21.1 in /usr/local/lib/python3.7/dist-packages (from requests<3,>=2.0.0->wandb) (1.24.3)\n",
            "Requirement already satisfied, skipping upgrade: setuptools in /usr/local/lib/python3.7/dist-packages (from protobuf>=3.12.0->wandb) (54.2.0)\n",
            "Collecting smmap<5,>=3.0.1\n",
            "  Downloading https://files.pythonhosted.org/packages/68/ee/d540eb5e5996eb81c26ceffac6ee49041d473bc5125f2aa995cf51ec1cf1/smmap-4.0.0-py2.py3-none-any.whl\n",
            "Building wheels for collected packages: subprocess32, pathtools\n",
            "  Building wheel for subprocess32 (setup.py) ... \u001b[?25l\u001b[?25hdone\n",
            "  Created wheel for subprocess32: filename=subprocess32-3.5.4-cp37-none-any.whl size=6489 sha256=0546925bdd44978c40fd6996d23cdd7350a0f799ae1d1490229787922f40a655\n",
            "  Stored in directory: /root/.cache/pip/wheels/68/39/1a/5e402bdfdf004af1786c8b853fd92f8c4a04f22aad179654d1\n",
            "  Building wheel for pathtools (setup.py) ... \u001b[?25l\u001b[?25hdone\n",
            "  Created wheel for pathtools: filename=pathtools-0.1.2-cp37-none-any.whl size=8786 sha256=e893aa73e40adebcd18297ec81402b1ac3a4d49254d505325b9e1d81130dd144\n",
            "  Stored in directory: /root/.cache/pip/wheels/0b/04/79/c3b0c3a0266a3cb4376da31e5bfe8bba0c489246968a68e843\n",
            "Successfully built subprocess32 pathtools\n",
            "Installing collected packages: subprocess32, smmap, gitdb, GitPython, sentry-sdk, docker-pycreds, configparser, shortuuid, pathtools, wandb\n",
            "Successfully installed GitPython-3.1.14 configparser-5.0.2 docker-pycreds-0.4.0 gitdb-4.0.7 pathtools-0.1.2 sentry-sdk-1.0.0 shortuuid-1.0.1 smmap-4.0.0 subprocess32-3.5.4 wandb-0.10.24\n",
            "\u001b[34m\u001b[1mwandb\u001b[0m: Appending key for api.wandb.ai to your netrc file: /root/.netrc\n"
          ],
          "name": "stdout"
        }
      ]
    },
    {
      "cell_type": "code",
      "metadata": {
        "id": "T99QShvaRdXa"
      },
      "source": [
        "from tensorflow.keras import layers\n",
        "\n",
        "# Model for resizing and rescaling images\n",
        "image_rescale = Sequential([\n",
        "    layers.experimental.preprocessing.Rescaling(1./255)\n",
        "])\n",
        "\n",
        "# Model for performing random transformations for data augmentation\n",
        "data_augmentation = Sequential([\n",
        "    layers.experimental.preprocessing.RandomFlip(\"horizontal\"),\n",
        "    layers.experimental.preprocessing.RandomRotation(0.1),\n",
        "    layers.experimental.preprocessing.RandomTranslation(0.2, 0.2),\n",
        "    layers.experimental.preprocessing.RandomZoom(0.2, 0.2),\n",
        "    layers.experimental.preprocessing.RandomContrast(0.2)\n",
        "])\n",
        "\n",
        "def prepare_data(data_path, inp_img_shape, batch_size, img_preprocess, data_augmentation, data_augment_yes = False, shuffle = True):\n",
        "    AUTOTUNE = tf.data.AUTOTUNE\n",
        "    dataset = image_dataset_from_directory(\n",
        "        data_path, labels='inferred', color_mode='rgb', batch_size=batch_size, image_size=inp_img_shape[:-1], shuffle=shuffle,\n",
        "        seed=123, label_mode='categorical'\n",
        "    )\n",
        "    \n",
        "    dataset = dataset.map(lambda x, y: (img_preprocess(x), y), num_parallel_calls=AUTOTUNE)\n",
        "\n",
        "    # Use data augmentation only if data_augment_yes == True (Training set only requires data augmentation)\n",
        "    if data_augment_yes:\n",
        "        dataset = dataset.map(lambda x, y: (data_augmentation(x, training=True), y), num_parallel_calls=AUTOTUNE)\n",
        "\n",
        "    # Use buffered prefecting on datasets\n",
        "    return dataset.prefetch(buffer_size=AUTOTUNE)\n",
        "\n",
        "\n",
        "def data_generator(inp_img_shape, batch_size, data_augment_yes = False, train_data_path = None, val_data_path = None, test_data_path = None):\n",
        "    train_data = None\n",
        "    if train_data_path is not None:\n",
        "        train_data = prepare_data(train_data_path, inp_img_shape, batch_size, image_rescale, data_augmentation, data_augment_yes)\n",
        "    val_data = None\n",
        "    if val_data_path is not None:\n",
        "        val_data = prepare_data(val_data_path, inp_img_shape, batch_size, image_rescale, data_augmentation, False)\n",
        "    test_data = None\n",
        "    if test_data_path is not None:\n",
        "        test_data = prepare_data(test_data_path, inp_img_shape, batch_size, image_rescale, data_augmentation, False)\n",
        "    \n",
        "    return train_data, val_data, test_data\n"
      ],
      "execution_count": null,
      "outputs": []
    },
    {
      "cell_type": "code",
      "metadata": {
        "id": "COdHx5_sFEAr"
      },
      "source": [
        "import wandb\n",
        "from wandb.keras import WandbCallback"
      ],
      "execution_count": null,
      "outputs": []
    },
    {
      "cell_type": "code",
      "metadata": {
        "id": "7eOL2KSnGffH"
      },
      "source": [
        "def train_model(model, train_data, loss_function, optimizer = 'adam', learning_rate = 1e-3, epochs = 10, val_data = None):\n",
        "    if optimizer == 'adam':\n",
        "        model.compile(optimizer = Adam(learning_rate=learning_rate), loss = loss_function, metrics = ['accuracy'])\n",
        "    elif optimizer == 'momentum':\n",
        "        model.compile(optimizer = SGD(learning_rate=learning_rate, momentum = 0.9), loss = loss_function, metrics = ['accuracy'])\n",
        "    elif optimizer == 'rmsprop':\n",
        "        model.compile(optimizer = RMSprop(learning_rate=learning_rate), loss = loss_function, metrics = ['accuracy'])\n",
        "    elif optimizer == 'nesterov':\n",
        "        model.compile(optimizer = SGD(learning_rate=learning_rate, momentum = 0.9, nesterov = True), loss = loss_function, metrics = ['accuracy'])\n",
        "    elif optimizer == 'nadam':\n",
        "        model.compile(optimizer = Nadam(learning_rate=learning_rate), loss = loss_function, metrics = ['accuracy'])\n",
        "    else:\n",
        "        model.compile(optimizer = SGD(learning_rate=learning_rate), loss = loss_function, metrics = ['accuracy'])\n",
        "\n",
        "    model.fit(train_data,\n",
        "              epochs = epochs, \n",
        "              validation_data = val_data,\n",
        "              verbose = 2,\n",
        "              callbacks = [WandbCallback(monitor='val_accuracy'), EarlyStopping(monitor='val_accuracy', patience=5)])\n",
        "    \n",
        "    return model\n"
      ],
      "execution_count": null,
      "outputs": []
    },
    {
      "cell_type": "code",
      "metadata": {
        "id": "Ebkh3kAslcgB"
      },
      "source": [
        "from tensorflow.keras.models import Model\n",
        "get_pretrained_function = {\n",
        "    'Xception' :          (lambda : tf.keras.applications.xception.Xception(weights='imagenet', include_top=False)),\n",
        "    'ResNet50' :          (lambda : tf.keras.applications.resnet50.ResNet50(weights='imagenet', include_top=False)),\n",
        "    'InceptionV3' :       (lambda : tf.keras.applications.inception_v3.InceptionV3(weights='imagenet', include_top=False)),\n",
        "    'InceptionResNetV2' : (lambda : tf.keras.applications.inception_resnet_v2.InceptionResNetV2(weights='imagenet', include_top=False))\n",
        "}\n",
        "\n",
        "get_k_value = {\n",
        "    'Xception' :          116,\n",
        "    'ResNet50' :          143,\n",
        "    'InceptionV3' :       249,\n",
        "    'InceptionResNetV2' : 617\n",
        "}"
      ],
      "execution_count": null,
      "outputs": []
    },
    {
      "cell_type": "code",
      "metadata": {
        "id": "rxBKoht1BbGB"
      },
      "source": [
        "def get_pretrained_model(model_name='InceptionResNetV2', no_neurons_dense=1024, k_value=617, no_classes=10):\n",
        "  pretrained_model = get_pretrained_function[model_name]()\n",
        "  # add a global spatial average pooling layer\n",
        "  x = pretrained_model.output\n",
        "  x = GlobalAveragePooling2D()(x)\n",
        "  # let's add a fully-connected layer\n",
        "  x = Dense(no_neurons_dense, activation='relu')(x)\n",
        "  # and a logistic layer -- let's say we have 200 classes\n",
        "  predictions = Dense(no_classes, activation='softmax')(x)\n",
        "  model = Model(inputs=pretrained_model.input, outputs=predictions)\n",
        "  \n",
        "  for layer in pretrained_model.layers:\n",
        "    layer.trainable = False\n",
        "\n",
        "  #for i, layer in enumerate(pretrained_model.layers):\n",
        "  #  print(i, layer.name)\n",
        "\n",
        "  for layer in model.layers[:k_value]:\n",
        "    layer.trainable = False\n",
        "  for layer in model.layers[k_value:]:\n",
        "    layer.trainable = True\n",
        "\n",
        "  return model"
      ],
      "execution_count": null,
      "outputs": []
    },
    {
      "cell_type": "code",
      "metadata": {
        "id": "Bqf4IQTp2plw"
      },
      "source": [
        "def test_model(model, test_data):\n",
        "    assert(test_data is not None)\n",
        "    test_loss, test_accuracy = model.evaluate(test_data, use_multiprocessing = True, workers = 4)\n",
        "    test_accuracy = round(test_accuracy*100, 2)\n",
        "    test_loss = round(test_loss, 4)\n",
        "    print(f'Test Accuracy : {test_accuracy} | Test Loss : {test_loss}')\n",
        "\n",
        "    return test_loss, test_accuracy\n"
      ],
      "execution_count": null,
      "outputs": []
    },
    {
      "cell_type": "code",
      "metadata": {
        "id": "7x7ioaSrRVUJ"
      },
      "source": [
        "def CNN_pretrained_train(model, inp_img_shape, train_data_path, config, no_classes = 10, val_data_path = None, test_data_path = None, \n",
        "                         wandb_init = True):\n",
        "    \n",
        "    id = ''\n",
        "    if wandb_init:\n",
        "        id = wandb.util.generate_id()\n",
        "        run = wandb.init(id = id, project=\"assignment2\", entity=\"abisheks\", reinit=True, config=config)\n",
        "        \n",
        "    tf.keras.backend.clear_session()\n",
        "    \n",
        "    train_data, val_data, test_data = data_generator(inp_img_shape, config['batch_size'], config['data_augmented'], \n",
        "                                                     train_data_path, val_data_path, test_data_path)\n",
        "    model = train_model(model, train_data, config['loss_function'], config['optimizer'], config['learning_rate'], config['epochs'], val_data)\n",
        "    \n",
        "    if test_data is not None:\n",
        "        test_loss, test_accuracy = test_model(model, test_data)\n",
        "        wandb.log({'test_accuracy': test_accuracy, 'test_loss': test_loss})\n",
        "\n",
        "    if wandb_init:\n",
        "        run.finish()\n",
        "\n",
        "    return model, id\n"
      ],
      "execution_count": null,
      "outputs": []
    },
    {
      "cell_type": "code",
      "metadata": {
        "id": "aVJF6Nr6S3-T"
      },
      "source": [
        "# Hyperparameters for building the model for Part-A\n",
        "\n",
        "inp_img_shape_2 = (224, 224, 3)                                 # Shape of input image from data\n",
        "no_classes_2 = 10                                               # Number of output classes in the classification problem\n",
        "\n",
        "\n",
        "config_2 = {\n",
        "    \"learning_rate\": 1e-3,                                      # Hyperparameter for updating the parameters in gradient descent\n",
        "    \"epochs\": 10,                                               # Number of epochs to train the model   \n",
        "    \"optimizer\": 'nesterov',                                    # Gradient descent algorithm used for the parameter updation\n",
        "    \"batch_size\": 64,                                           # Batch size used for the optimizer\n",
        "    \"loss_function\": 'categorical_crossentropy',                # Loss function used in the optimizer\n",
        "    \"no_neurons_dense\": 512,                                    # Number of neurons in the dense FC layer\n",
        "    \"data_augmented\": False,                                    # True : Data augmentation is done during training, False : No data augmentation done\n",
        "    \"model_name\": 'InceptionResNetV2'                           # Name of the pretrained model\n",
        "}\n",
        "\n",
        "\n",
        "# PART-B, Question 1 -- Fine tuning a model pre-trained on Imagenet to iNaturalist dataset\n",
        "# model = get_pretrained_model(config_2['model_name'], config_2['no_neurons_dense'], get_k_value[config_2['model_name']], no_classes_2)\n",
        "# modelA, _ = CNN_pretrained(model, inp_img_shape_2, './inaturalist_12K/train', config_2, no_classes_2, './inaturalist_12K/val', './inaturalist_12K/test')"
      ],
      "execution_count": null,
      "outputs": []
    },
    {
      "cell_type": "code",
      "metadata": {
        "id": "CLbzD_laKXuq"
      },
      "source": [
        "sweep_config = {\n",
        "    'name': 'CNN_pretrained',\n",
        "    'method': 'bayes',                   # Possible search : grid, random, bayes\n",
        "    'metric': {\n",
        "      'name': 'val_accuracy',\n",
        "      'goal': 'maximize'   \n",
        "    },\n",
        "    'parameters': {\n",
        "        'model_name': {\n",
        "            'values': ['InceptionResNetV2', 'InceptionV3', 'ResNet50' , 'Xception']\n",
        "        },\n",
        "        'data_augmented': {\n",
        "            'values': [True, False]\n",
        "        },\n",
        "        'no_neurons_dense': {\n",
        "            'values': [512,1024]\n",
        "        },\n",
        "        'optimizer': {\n",
        "            'values': ['adam', 'nesterov', 'rmsprop']\n",
        "        }\n",
        "    }\n",
        "}"
      ],
      "execution_count": null,
      "outputs": []
    },
    {
      "cell_type": "code",
      "metadata": {
        "id": "ru5mF5svUwwV"
      },
      "source": [
        "def sweep_wrapper(data_path = './inaturalist_12K'):\n",
        "  \n",
        "    # Wrapper function to call the CNN pretrained function for sweeping with different hyperparameters\n",
        "\n",
        "    # Initialize a new wandb run\n",
        "    run = wandb.init(config=config_2, reinit=True)\n",
        "\n",
        "    # Config is a variable that holds and saves hyperparameters and inputs\n",
        "    config = wandb.config\n",
        "    #print(config)\n",
        "\n",
        "    wandb.run.name = f'mn_{config.model_name}_nd_{config.no_neurons_dense}_op_{config.optimizer}'\n",
        "    wandb.run.name += '_da' if config.data_augmented else '' \n",
        "    wandb.run.save()\n",
        "    print(wandb.run.name)\n",
        "    model = get_pretrained_model(config.model_name, config.no_neurons_dense, get_k_value[config.model_name], no_classes_2)\n",
        "    # Sweep uses L2 regularisation as default as given in the question\n",
        "    modelA, _ = CNN_pretrained_train(model, inp_img_shape_2, f'{data_path}/train', config_2, no_classes_2, f'{data_path}/val', wandb_init = False)\n",
        "    run.finish()"
      ],
      "execution_count": null,
      "outputs": []
    },
    {
      "cell_type": "code",
      "metadata": {
        "colab": {
          "base_uri": "https://localhost:8080/",
          "height": 1000,
          "referenced_widgets": [
            "427f0793e6104e4ab06958abb1577716",
            "07e27a53cdb848d1985eb22c76b85724",
            "36c6830193d5470ba93b87f54f562252",
            "bc6b73e7b9824f669ed4cc3d8ce05dac",
            "41615319bd1c455f83b13254652ce1b2",
            "a1961a0aaa284e9e97b0c75cca501243",
            "c3dddc14f41f4cca9336a3f1a681d134",
            "699fe3d4886d4b33966c7b2fddcd2f56",
            "1dfbbd7486474c6a955a3f93bab18e87",
            "2c409e59a0a0440d80befd8a6f00ef1d",
            "2ac075af62c94289ad158e1ddbfdaee4",
            "78291f66162740379aa0542eb37330e3",
            "d047a27571064e9e92f186d5818aa5de",
            "07eb5126bfd248fa860a037b8f427db2",
            "ed51c56c6e7247bbb2a472ea78cb5054",
            "46a2322f0bc24fedb1c9c0e8c555bdbc"
          ]
        },
        "id": "doP3NWq8QAc0",
        "outputId": "b496b7a4-16e1-4482-fd54-36e7bb1f86f5"
      },
      "source": [
        "# sweep_id = wandb.sweep(sweep_config, entity=\"abisheks\", project=\"assignment2\")\n",
        "sweep_id = \"abisheks/assignment2/nhoqsu5c\"\n",
        "wandb.agent(sweep_id, lambda : sweep_wrapper())"
      ],
      "execution_count": null,
      "outputs": [
        {
          "output_type": "stream",
          "text": [
            "\u001b[34m\u001b[1mwandb\u001b[0m: Agent Starting Run: m8ziujea with config:\n",
            "\u001b[34m\u001b[1mwandb\u001b[0m: \tdata_augmented: False\n",
            "\u001b[34m\u001b[1mwandb\u001b[0m: \tmodel_name: Xception\n",
            "\u001b[34m\u001b[1mwandb\u001b[0m: \tno_neurons_dense: 512\n",
            "\u001b[34m\u001b[1mwandb\u001b[0m: \toptimizer: rmsprop\n",
            "\u001b[34m\u001b[1mwandb\u001b[0m: Currently logged in as: \u001b[33mabisheks\u001b[0m (use `wandb login --relogin` to force relogin)\n"
          ],
          "name": "stderr"
        },
        {
          "output_type": "display_data",
          "data": {
            "text/html": [
              "\n",
              "                Tracking run with wandb version 0.10.24<br/>\n",
              "                Syncing run <strong style=\"color:#cdcd00\">soft-sweep-81</strong> to <a href=\"https://wandb.ai\" target=\"_blank\">Weights & Biases</a> <a href=\"https://docs.wandb.com/integrations/jupyter.html\" target=\"_blank\">(Documentation)</a>.<br/>\n",
              "                Project page: <a href=\"https://wandb.ai/abisheks/assignment2\" target=\"_blank\">https://wandb.ai/abisheks/assignment2</a><br/>\n",
              "                Sweep page: <a href=\"https://wandb.ai/abisheks/assignment2/sweeps/nhoqsu5c\" target=\"_blank\">https://wandb.ai/abisheks/assignment2/sweeps/nhoqsu5c</a><br/>\n",
              "Run page: <a href=\"https://wandb.ai/abisheks/assignment2/runs/m8ziujea\" target=\"_blank\">https://wandb.ai/abisheks/assignment2/runs/m8ziujea</a><br/>\n",
              "                Run data is saved locally in <code>/content/wandb/run-20210405_152439-m8ziujea</code><br/><br/>\n",
              "            "
            ],
            "text/plain": [
              "<IPython.core.display.HTML object>"
            ]
          },
          "metadata": {
            "tags": []
          }
        },
        {
          "output_type": "stream",
          "text": [
            "\u001b[34m\u001b[1mwandb\u001b[0m: \u001b[33mWARNING\u001b[0m Calling run.save without any arguments is deprecated.Changes to attributes are automatically persisted.\n"
          ],
          "name": "stderr"
        },
        {
          "output_type": "stream",
          "text": [
            "mn_Xception_nd_512_op_rmsprop\n",
            "Downloading data from https://storage.googleapis.com/tensorflow/keras-applications/xception/xception_weights_tf_dim_ordering_tf_kernels_notop.h5\n",
            "83689472/83683744 [==============================] - 1s 0us/step\n",
            "Found 9006 files belonging to 10 classes.\n",
            "Found 1004 files belonging to 10 classes.\n",
            "Epoch 1/10\n",
            "141/141 - 169s - loss: 2.0527 - accuracy: 0.4013 - val_loss: 1.4478 - val_accuracy: 0.6096\n",
            "Epoch 2/10\n",
            "141/141 - 111s - loss: 1.3287 - accuracy: 0.6841 - val_loss: 0.9466 - val_accuracy: 0.7032\n",
            "Epoch 3/10\n",
            "141/141 - 110s - loss: 0.9491 - accuracy: 0.7206 - val_loss: 0.8717 - val_accuracy: 0.7151\n",
            "Epoch 4/10\n",
            "141/141 - 110s - loss: 0.8210 - accuracy: 0.7455 - val_loss: 0.8351 - val_accuracy: 0.7291\n",
            "Epoch 5/10\n",
            "141/141 - 110s - loss: 0.7518 - accuracy: 0.7582 - val_loss: 0.8069 - val_accuracy: 0.7371\n",
            "Epoch 6/10\n",
            "141/141 - 110s - loss: 0.7016 - accuracy: 0.7700 - val_loss: 0.7840 - val_accuracy: 0.7470\n",
            "Epoch 7/10\n",
            "141/141 - 110s - loss: 0.6578 - accuracy: 0.7855 - val_loss: 0.7640 - val_accuracy: 0.7580\n",
            "Epoch 8/10\n",
            "141/141 - 109s - loss: 0.6210 - accuracy: 0.7942 - val_loss: 0.7508 - val_accuracy: 0.7679\n",
            "Epoch 9/10\n",
            "141/141 - 110s - loss: 0.5873 - accuracy: 0.8090 - val_loss: 0.7408 - val_accuracy: 0.7709\n",
            "Epoch 10/10\n",
            "141/141 - 110s - loss: 0.5577 - accuracy: 0.8153 - val_loss: 0.7309 - val_accuracy: 0.7689\n"
          ],
          "name": "stdout"
        },
        {
          "output_type": "display_data",
          "data": {
            "text/html": [
              "<br/>Waiting for W&B process to finish, PID 331<br/>Program ended successfully."
            ],
            "text/plain": [
              "<IPython.core.display.HTML object>"
            ]
          },
          "metadata": {
            "tags": []
          }
        },
        {
          "output_type": "display_data",
          "data": {
            "application/vnd.jupyter.widget-view+json": {
              "model_id": "427f0793e6104e4ab06958abb1577716",
              "version_minor": 0,
              "version_major": 2
            },
            "text/plain": [
              "VBox(children=(Label(value=' 113.94MB of 113.94MB uploaded (0.00MB deduped)\\r'), FloatProgress(value=1.0, max=…"
            ]
          },
          "metadata": {
            "tags": []
          }
        },
        {
          "output_type": "display_data",
          "data": {
            "text/html": [
              "Find user logs for this run at: <code>/content/wandb/run-20210405_152439-m8ziujea/logs/debug.log</code>"
            ],
            "text/plain": [
              "<IPython.core.display.HTML object>"
            ]
          },
          "metadata": {
            "tags": []
          }
        },
        {
          "output_type": "display_data",
          "data": {
            "text/html": [
              "Find internal logs for this run at: <code>/content/wandb/run-20210405_152439-m8ziujea/logs/debug-internal.log</code>"
            ],
            "text/plain": [
              "<IPython.core.display.HTML object>"
            ]
          },
          "metadata": {
            "tags": []
          }
        },
        {
          "output_type": "display_data",
          "data": {
            "text/html": [
              "<h3>Run summary:</h3><br/><style>\n",
              "    table.wandb td:nth-child(1) { padding: 0 10px; text-align: right }\n",
              "    </style><table class=\"wandb\">\n",
              "<tr><td>epoch</td><td>9</td></tr><tr><td>loss</td><td>0.55771</td></tr><tr><td>accuracy</td><td>0.81535</td></tr><tr><td>val_loss</td><td>0.73091</td></tr><tr><td>val_accuracy</td><td>0.76892</td></tr><tr><td>_runtime</td><td>1170</td></tr><tr><td>_timestamp</td><td>1617637449</td></tr><tr><td>_step</td><td>9</td></tr><tr><td>best_val_accuracy</td><td>0.77092</td></tr><tr><td>best_epoch</td><td>8</td></tr></table>"
            ],
            "text/plain": [
              "<IPython.core.display.HTML object>"
            ]
          },
          "metadata": {
            "tags": []
          }
        },
        {
          "output_type": "display_data",
          "data": {
            "text/html": [
              "<h3>Run history:</h3><br/><style>\n",
              "    table.wandb td:nth-child(1) { padding: 0 10px; text-align: right }\n",
              "    </style><table class=\"wandb\">\n",
              "<tr><td>epoch</td><td>▁▂▃▃▄▅▆▆▇█</td></tr><tr><td>loss</td><td>█▅▃▂▂▂▁▁▁▁</td></tr><tr><td>accuracy</td><td>▁▆▆▇▇▇▇███</td></tr><tr><td>val_loss</td><td>█▃▂▂▂▂▁▁▁▁</td></tr><tr><td>val_accuracy</td><td>▁▅▆▆▇▇▇███</td></tr><tr><td>_runtime</td><td>▁▂▃▃▄▅▆▆▇█</td></tr><tr><td>_timestamp</td><td>▁▂▃▃▄▅▆▆▇█</td></tr><tr><td>_step</td><td>▁▂▃▃▄▅▆▆▇█</td></tr></table><br/>"
            ],
            "text/plain": [
              "<IPython.core.display.HTML object>"
            ]
          },
          "metadata": {
            "tags": []
          }
        },
        {
          "output_type": "display_data",
          "data": {
            "text/html": [
              "Synced 5 W&B file(s), 0 media file(s), 0 artifact file(s) and 1 other file(s)"
            ],
            "text/plain": [
              "<IPython.core.display.HTML object>"
            ]
          },
          "metadata": {
            "tags": []
          }
        },
        {
          "output_type": "display_data",
          "data": {
            "text/html": [
              "\n",
              "                    <br/>Synced <strong style=\"color:#cdcd00\">soft-sweep-81</strong>: <a href=\"https://wandb.ai/abisheks/assignment2/runs/m8ziujea\" target=\"_blank\">https://wandb.ai/abisheks/assignment2/runs/m8ziujea</a><br/>\n",
              "                "
            ],
            "text/plain": [
              "<IPython.core.display.HTML object>"
            ]
          },
          "metadata": {
            "tags": []
          }
        },
        {
          "output_type": "stream",
          "text": [
            "\u001b[34m\u001b[1mwandb\u001b[0m: Agent Starting Run: 69me43ta with config:\n",
            "\u001b[34m\u001b[1mwandb\u001b[0m: \tdata_augmented: True\n",
            "\u001b[34m\u001b[1mwandb\u001b[0m: \tmodel_name: InceptionV3\n",
            "\u001b[34m\u001b[1mwandb\u001b[0m: \tno_neurons_dense: 1024\n",
            "\u001b[34m\u001b[1mwandb\u001b[0m: \toptimizer: rmsprop\n"
          ],
          "name": "stderr"
        },
        {
          "output_type": "display_data",
          "data": {
            "text/html": [
              "\n",
              "                Tracking run with wandb version 0.10.24<br/>\n",
              "                Syncing run <strong style=\"color:#cdcd00\">snowy-sweep-83</strong> to <a href=\"https://wandb.ai\" target=\"_blank\">Weights & Biases</a> <a href=\"https://docs.wandb.com/integrations/jupyter.html\" target=\"_blank\">(Documentation)</a>.<br/>\n",
              "                Project page: <a href=\"https://wandb.ai/abisheks/assignment2\" target=\"_blank\">https://wandb.ai/abisheks/assignment2</a><br/>\n",
              "                Sweep page: <a href=\"https://wandb.ai/abisheks/assignment2/sweeps/nhoqsu5c\" target=\"_blank\">https://wandb.ai/abisheks/assignment2/sweeps/nhoqsu5c</a><br/>\n",
              "Run page: <a href=\"https://wandb.ai/abisheks/assignment2/runs/69me43ta\" target=\"_blank\">https://wandb.ai/abisheks/assignment2/runs/69me43ta</a><br/>\n",
              "                Run data is saved locally in <code>/content/wandb/run-20210405_154421-69me43ta</code><br/><br/>\n",
              "            "
            ],
            "text/plain": [
              "<IPython.core.display.HTML object>"
            ]
          },
          "metadata": {
            "tags": []
          }
        },
        {
          "output_type": "stream",
          "text": [
            "\u001b[34m\u001b[1mwandb\u001b[0m: \u001b[33mWARNING\u001b[0m Calling run.save without any arguments is deprecated.Changes to attributes are automatically persisted.\n"
          ],
          "name": "stderr"
        },
        {
          "output_type": "stream",
          "text": [
            "mn_InceptionV3_nd_1024_op_rmsprop_da\n",
            "Downloading data from https://storage.googleapis.com/tensorflow/keras-applications/inception_v3/inception_v3_weights_tf_dim_ordering_tf_kernels_notop.h5\n",
            "87916544/87910968 [==============================] - 2s 0us/step\n",
            "Found 9006 files belonging to 10 classes.\n",
            "Found 1004 files belonging to 10 classes.\n",
            "Epoch 1/10\n",
            "141/141 - 97s - loss: 1.3863 - accuracy: 0.5827 - val_loss: 0.8580 - val_accuracy: 0.7321\n",
            "Epoch 2/10\n",
            "141/141 - 83s - loss: 0.7056 - accuracy: 0.7766 - val_loss: 0.7697 - val_accuracy: 0.7570\n",
            "Epoch 3/10\n",
            "141/141 - 84s - loss: 0.5224 - accuracy: 0.8360 - val_loss: 0.7386 - val_accuracy: 0.7639\n",
            "Epoch 4/10\n",
            "141/141 - 83s - loss: 0.3819 - accuracy: 0.8851 - val_loss: 0.7415 - val_accuracy: 0.7649\n",
            "Epoch 5/10\n",
            "141/141 - 82s - loss: 0.2784 - accuracy: 0.9224 - val_loss: 0.7528 - val_accuracy: 0.7669\n",
            "Epoch 6/10\n",
            "141/141 - 82s - loss: 0.1938 - accuracy: 0.9486 - val_loss: 0.7657 - val_accuracy: 0.7779\n",
            "Epoch 7/10\n",
            "141/141 - 84s - loss: 0.1317 - accuracy: 0.9730 - val_loss: 0.7928 - val_accuracy: 0.7789\n",
            "Epoch 8/10\n",
            "141/141 - 83s - loss: 0.0897 - accuracy: 0.9836 - val_loss: 0.8233 - val_accuracy: 0.7769\n",
            "Epoch 9/10\n",
            "141/141 - 83s - loss: 0.0614 - accuracy: 0.9902 - val_loss: 0.8436 - val_accuracy: 0.7789\n",
            "Epoch 10/10\n",
            "141/141 - 85s - loss: 0.0428 - accuracy: 0.9956 - val_loss: 0.8692 - val_accuracy: 0.7789\n"
          ],
          "name": "stdout"
        },
        {
          "output_type": "display_data",
          "data": {
            "text/html": [
              "<br/>Waiting for W&B process to finish, PID 479<br/>Program ended successfully."
            ],
            "text/plain": [
              "<IPython.core.display.HTML object>"
            ]
          },
          "metadata": {
            "tags": []
          }
        },
        {
          "output_type": "display_data",
          "data": {
            "application/vnd.jupyter.widget-view+json": {
              "model_id": "1dfbbd7486474c6a955a3f93bab18e87",
              "version_minor": 0,
              "version_major": 2
            },
            "text/plain": [
              "VBox(children=(Label(value=' 2.36MB of 2.36MB uploaded (0.00MB deduped)\\r'), FloatProgress(value=1.0, max=1.0)…"
            ]
          },
          "metadata": {
            "tags": []
          }
        },
        {
          "output_type": "display_data",
          "data": {
            "text/html": [
              "Find user logs for this run at: <code>/content/wandb/run-20210405_154421-69me43ta/logs/debug.log</code>"
            ],
            "text/plain": [
              "<IPython.core.display.HTML object>"
            ]
          },
          "metadata": {
            "tags": []
          }
        },
        {
          "output_type": "display_data",
          "data": {
            "text/html": [
              "Find internal logs for this run at: <code>/content/wandb/run-20210405_154421-69me43ta/logs/debug-internal.log</code>"
            ],
            "text/plain": [
              "<IPython.core.display.HTML object>"
            ]
          },
          "metadata": {
            "tags": []
          }
        },
        {
          "output_type": "display_data",
          "data": {
            "text/html": [
              "<h3>Run summary:</h3><br/><style>\n",
              "    table.wandb td:nth-child(1) { padding: 0 10px; text-align: right }\n",
              "    </style><table class=\"wandb\">\n",
              "<tr><td>epoch</td><td>9</td></tr><tr><td>loss</td><td>0.04278</td></tr><tr><td>accuracy</td><td>0.99556</td></tr><tr><td>val_loss</td><td>0.86921</td></tr><tr><td>val_accuracy</td><td>0.77888</td></tr><tr><td>_runtime</td><td>864</td></tr><tr><td>_timestamp</td><td>1617638325</td></tr><tr><td>_step</td><td>9</td></tr><tr><td>best_val_accuracy</td><td>0.77888</td></tr><tr><td>best_epoch</td><td>6</td></tr></table>"
            ],
            "text/plain": [
              "<IPython.core.display.HTML object>"
            ]
          },
          "metadata": {
            "tags": []
          }
        },
        {
          "output_type": "display_data",
          "data": {
            "text/html": [
              "<h3>Run history:</h3><br/><style>\n",
              "    table.wandb td:nth-child(1) { padding: 0 10px; text-align: right }\n",
              "    </style><table class=\"wandb\">\n",
              "<tr><td>epoch</td><td>▁▂▃▃▄▅▆▆▇█</td></tr><tr><td>loss</td><td>█▄▃▃▂▂▁▁▁▁</td></tr><tr><td>accuracy</td><td>▁▄▅▆▇▇████</td></tr><tr><td>val_loss</td><td>▇▃▁▁▂▂▄▆▇█</td></tr><tr><td>val_accuracy</td><td>▁▅▆▆▆█████</td></tr><tr><td>_runtime</td><td>▁▂▃▃▄▅▆▆▇█</td></tr><tr><td>_timestamp</td><td>▁▂▃▃▄▅▆▆▇█</td></tr><tr><td>_step</td><td>▁▂▃▃▄▅▆▆▇█</td></tr></table><br/>"
            ],
            "text/plain": [
              "<IPython.core.display.HTML object>"
            ]
          },
          "metadata": {
            "tags": []
          }
        },
        {
          "output_type": "display_data",
          "data": {
            "text/html": [
              "Synced 5 W&B file(s), 0 media file(s), 0 artifact file(s) and 1 other file(s)"
            ],
            "text/plain": [
              "<IPython.core.display.HTML object>"
            ]
          },
          "metadata": {
            "tags": []
          }
        },
        {
          "output_type": "display_data",
          "data": {
            "text/html": [
              "\n",
              "                    <br/>Synced <strong style=\"color:#cdcd00\">snowy-sweep-83</strong>: <a href=\"https://wandb.ai/abisheks/assignment2/runs/69me43ta\" target=\"_blank\">https://wandb.ai/abisheks/assignment2/runs/69me43ta</a><br/>\n",
              "                "
            ],
            "text/plain": [
              "<IPython.core.display.HTML object>"
            ]
          },
          "metadata": {
            "tags": []
          }
        },
        {
          "output_type": "stream",
          "text": [
            "\u001b[34m\u001b[1mwandb\u001b[0m: Agent Starting Run: b7db5tvt with config:\n",
            "\u001b[34m\u001b[1mwandb\u001b[0m: \tdata_augmented: False\n",
            "\u001b[34m\u001b[1mwandb\u001b[0m: \tmodel_name: InceptionResNetV2\n",
            "\u001b[34m\u001b[1mwandb\u001b[0m: \tno_neurons_dense: 512\n",
            "\u001b[34m\u001b[1mwandb\u001b[0m: \toptimizer: nesterov\n"
          ],
          "name": "stderr"
        },
        {
          "output_type": "display_data",
          "data": {
            "text/html": [
              "\n",
              "                Tracking run with wandb version 0.10.24<br/>\n",
              "                Syncing run <strong style=\"color:#cdcd00\">avid-sweep-85</strong> to <a href=\"https://wandb.ai\" target=\"_blank\">Weights & Biases</a> <a href=\"https://docs.wandb.com/integrations/jupyter.html\" target=\"_blank\">(Documentation)</a>.<br/>\n",
              "                Project page: <a href=\"https://wandb.ai/abisheks/assignment2\" target=\"_blank\">https://wandb.ai/abisheks/assignment2</a><br/>\n",
              "                Sweep page: <a href=\"https://wandb.ai/abisheks/assignment2/sweeps/nhoqsu5c\" target=\"_blank\">https://wandb.ai/abisheks/assignment2/sweeps/nhoqsu5c</a><br/>\n",
              "Run page: <a href=\"https://wandb.ai/abisheks/assignment2/runs/b7db5tvt\" target=\"_blank\">https://wandb.ai/abisheks/assignment2/runs/b7db5tvt</a><br/>\n",
              "                Run data is saved locally in <code>/content/wandb/run-20210405_155900-b7db5tvt</code><br/><br/>\n",
              "            "
            ],
            "text/plain": [
              "<IPython.core.display.HTML object>"
            ]
          },
          "metadata": {
            "tags": []
          }
        },
        {
          "output_type": "stream",
          "text": [
            "\u001b[34m\u001b[1mwandb\u001b[0m: \u001b[33mWARNING\u001b[0m Calling run.save without any arguments is deprecated.Changes to attributes are automatically persisted.\n"
          ],
          "name": "stderr"
        },
        {
          "output_type": "stream",
          "text": [
            "mn_InceptionResNetV2_nd_512_op_nesterov\n",
            "Downloading data from https://storage.googleapis.com/tensorflow/keras-applications/inception_resnet_v2/inception_resnet_v2_weights_tf_dim_ordering_tf_kernels_notop.h5\n",
            "219062272/219055592 [==============================] - 7s 0us/step\n",
            "Found 9006 files belonging to 10 classes.\n",
            "Found 1004 files belonging to 10 classes.\n",
            "Epoch 1/10\n",
            "141/141 - 160s - loss: 1.4275 - accuracy: 0.5898 - val_loss: 0.7939 - val_accuracy: 0.7689\n",
            "Epoch 2/10\n",
            "141/141 - 138s - loss: 0.7432 - accuracy: 0.7770 - val_loss: 0.6986 - val_accuracy: 0.7938\n",
            "Epoch 3/10\n"
          ],
          "name": "stdout"
        }
      ]
    },
    {
      "cell_type": "code",
      "metadata": {
        "id": "SZzuuEqCTSQX"
      },
      "source": [
        ""
      ],
      "execution_count": null,
      "outputs": []
    }
  ]
}